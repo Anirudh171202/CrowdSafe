{
 "cells": [
  {
   "cell_type": "code",
   "execution_count": 21,
   "metadata": {},
   "outputs": [],
   "source": [
    "import json\n",
    "import math"
   ]
  },
  {
   "cell_type": "code",
   "execution_count": 30,
   "metadata": {},
   "outputs": [],
   "source": [
    "\n",
    "f = open(\"frames.json\", \"r\")\n",
    "body = json.load(f)\n",
    "\n",
    "f.close()"
   ]
  },
  {
   "cell_type": "code",
   "execution_count": 27,
   "metadata": {},
   "outputs": [],
   "source": [
    "def is_contained_in_rect(rect1, rect2):\n",
    "    l1x = rect1[0]\n",
    "    l2x = rect2[0]\n",
    "    l1y = rect1[1]\n",
    "    l2y = rect2[1]\n",
    "    r1x = rect1[0]+rect1[2]\n",
    "    r2x = rect2[0]+rect2[2]\n",
    "    r1y = rect1[1]+rect1[3]\n",
    "    r2y = rect2[1]+rect2[3]\n",
    "\n",
    "    if l1x > r2x or l2x > r1x:\n",
    "        return False\n",
    "    \n",
    "    if r1y < l2y or r2y < l1y:\n",
    "        return False\n",
    "\n",
    "    return True\n",
    "\n",
    "\n",
    "\n",
    "\n",
    "    "
   ]
  },
  {
   "cell_type": "code",
   "execution_count": 31,
   "metadata": {},
   "outputs": [],
   "source": [
    "keys = list(body.keys())\n",
    "\n",
    "final_d = {}\n",
    "\n",
    "for key in keys:\n",
    "    final_d[key] = []\n",
    "\n",
    "\n",
    "lookahead = 4\n",
    "\n",
    "\n",
    "for cur_frame in range(len(keys)-lookahead):\n",
    "    for rect in body[keys[cur_frame]]:\n",
    "        count = 0\n",
    "        # if(rect[2]*rect[3] < 2300):\n",
    "        #     continue\n",
    "        for future_frame in range(cur_frame+1, cur_frame+lookahead+1):\n",
    "            \n",
    "            for future_rect in body[keys[future_frame]]:\n",
    "                # print(rect, future_rect)\n",
    "                # if is_contained_in_rect(rect, future_rect):\n",
    "                if is_contained_in_rect(rect, future_rect):\n",
    "\n",
    "                     \n",
    "                    count += 1\n",
    "                    break\n",
    "        if count/lookahead >= 0.5:\n",
    "            final_d[keys[cur_frame]].append(rect)\n",
    "\n",
    "\n",
    "with open(\"averaging_data_new.json\", \"w+\") as f:\n",
    "    json.dump(final_d, f)\n",
    "            "
   ]
  },
  {
   "cell_type": "code",
   "execution_count": null,
   "metadata": {},
   "outputs": [],
   "source": []
  }
 ],
 "metadata": {
  "kernelspec": {
   "display_name": "Python 3",
   "language": "python",
   "name": "python3"
  },
  "language_info": {
   "codemirror_mode": {
    "name": "ipython",
    "version": 3
   },
   "file_extension": ".py",
   "mimetype": "text/x-python",
   "name": "python",
   "nbconvert_exporter": "python",
   "pygments_lexer": "ipython3",
   "version": "3.10.6"
  },
  "orig_nbformat": 4,
  "vscode": {
   "interpreter": {
    "hash": "b0fa6594d8f4cbf19f97940f81e996739fb7646882a419484c72d19e05852a7e"
   }
  }
 },
 "nbformat": 4,
 "nbformat_minor": 2
}
